{
 "cells": [
  {
   "cell_type": "code",
   "execution_count": 1,
   "id": "ab7fe808-7647-4d6b-ad10-d3da63abcf0c",
   "metadata": {},
   "outputs": [],
   "source": [
    "import pandas as pd\n",
    "reviews = pd.read_csv(\"googleplaystore_user_reviews.csv\")"
   ]
  },
  {
   "cell_type": "code",
   "execution_count": 2,
   "id": "0c738c17-8706-453b-93f1-07abea6ad774",
   "metadata": {},
   "outputs": [
    {
     "name": "stdout",
     "output_type": "stream",
     "text": [
      "                     App                                  Translated_Review  \\\n",
      "0  10 Best Foods for You  I like eat delicious food. That's I'm cooking ...   \n",
      "1  10 Best Foods for You    This help eating healthy exercise regular basis   \n",
      "2  10 Best Foods for You                                                NaN   \n",
      "3  10 Best Foods for You         Works great especially going grocery store   \n",
      "4  10 Best Foods for You                                       Best idea us   \n",
      "\n",
      "  Sentiment  Sentiment_Polarity  Sentiment_Subjectivity  \n",
      "0  Positive                1.00                0.533333  \n",
      "1  Positive                0.25                0.288462  \n",
      "2       NaN                 NaN                     NaN  \n",
      "3  Positive                0.40                0.875000  \n",
      "4  Positive                1.00                0.300000  \n"
     ]
    }
   ],
   "source": [
    "print(reviews.head())"
   ]
  },
  {
   "cell_type": "code",
   "execution_count": 3,
   "id": "1f8c06dd-19ae-40df-a3be-7f8b74f61448",
   "metadata": {},
   "outputs": [
    {
     "name": "stdout",
     "output_type": "stream",
     "text": [
      "\n",
      "REVIEWS file: (64295, 5)\n",
      "['App', 'Translated_Review', 'Sentiment', 'Sentiment_Polarity', 'Sentiment_Subjectivity']\n"
     ]
    }
   ],
   "source": [
    "print(\"\\nREVIEWS file:\", reviews.shape)\n",
    "print(reviews.columns.tolist())"
   ]
  },
  {
   "cell_type": "code",
   "execution_count": 4,
   "id": "55fa54ce-7fdb-437e-8ef3-69b62395db35",
   "metadata": {},
   "outputs": [
    {
     "name": "stdout",
     "output_type": "stream",
     "text": [
      "\n",
      "Top missing counts (reviews):\n",
      "Translated_Review         26868\n",
      "Sentiment                 26863\n",
      "Sentiment_Polarity        26863\n",
      "Sentiment_Subjectivity    26863\n",
      "App                           0\n",
      "dtype: int64\n"
     ]
    }
   ],
   "source": [
    "print(\"\\nTop missing counts (reviews):\")\n",
    "print(reviews.isna().sum().sort_values(ascending=False).head(10))"
   ]
  },
  {
   "cell_type": "code",
   "execution_count": 5,
   "id": "a6210ad1-072e-426b-b983-2bd4c58dddc2",
   "metadata": {},
   "outputs": [],
   "source": [
    "# Drop rows where review text is missing\n",
    "reviews_clean = reviews.dropna(subset=['Translated_Review']).copy()"
   ]
  },
  {
   "cell_type": "code",
   "execution_count": 6,
   "id": "2e7c14c0-80ea-4c9a-ab98-19a67b9d1679",
   "metadata": {},
   "outputs": [],
   "source": [
    "# Keep only useful columns\n",
    "reviews_clean = reviews_clean[['App','Translated_Review','Sentiment','Sentiment_Polarity','Sentiment_Subjectivity']]"
   ]
  },
  {
   "cell_type": "code",
   "execution_count": 7,
   "id": "ebcb135f-cba3-49c3-938c-3ead59525410",
   "metadata": {},
   "outputs": [],
   "source": [
    "# Reset index\n",
    "reviews_clean.reset_index(drop=True, inplace=True)"
   ]
  },
  {
   "cell_type": "code",
   "execution_count": 8,
   "id": "c5414f99-dea6-4dff-a0f7-2884ed6823b3",
   "metadata": {},
   "outputs": [
    {
     "name": "stdout",
     "output_type": "stream",
     "text": [
      "After cleaning: (37427, 5)\n"
     ]
    }
   ],
   "source": [
    "print(\"After cleaning:\", reviews_clean.shape)"
   ]
  },
  {
   "cell_type": "code",
   "execution_count": 9,
   "id": "87b35e1b-3a16-4a4f-931d-4317a343c3bf",
   "metadata": {},
   "outputs": [
    {
     "name": "stdout",
     "output_type": "stream",
     "text": [
      "                     App                                  Translated_Review  \\\n",
      "0  10 Best Foods for You  I like eat delicious food. That's I'm cooking ...   \n",
      "1  10 Best Foods for You    This help eating healthy exercise regular basis   \n",
      "2  10 Best Foods for You         Works great especially going grocery store   \n",
      "3  10 Best Foods for You                                       Best idea us   \n",
      "4  10 Best Foods for You                                           Best way   \n",
      "5  10 Best Foods for You                                            Amazing   \n",
      "6  10 Best Foods for You                               Looking forward app,   \n",
      "7  10 Best Foods for You              It helpful site ! It help foods get !   \n",
      "8  10 Best Foods for You                                          good you.   \n",
      "9  10 Best Foods for You  Useful information The amount spelling errors ...   \n",
      "\n",
      "  Sentiment  Sentiment_Polarity  Sentiment_Subjectivity  \n",
      "0  Positive                1.00                0.533333  \n",
      "1  Positive                0.25                0.288462  \n",
      "2  Positive                0.40                0.875000  \n",
      "3  Positive                1.00                0.300000  \n",
      "4  Positive                1.00                0.300000  \n",
      "5  Positive                0.60                0.900000  \n",
      "6   Neutral                0.00                0.000000  \n",
      "7   Neutral                0.00                0.000000  \n",
      "8  Positive                0.70                0.600000  \n",
      "9  Positive                0.20                0.100000  \n"
     ]
    }
   ],
   "source": [
    "print(reviews_clean.head(10))"
   ]
  },
  {
   "cell_type": "code",
   "execution_count": 10,
   "id": "25126891-cb4a-437d-ab78-bbebe0d75950",
   "metadata": {},
   "outputs": [],
   "source": [
    "# Count sentiment types per app\n",
    "sentiment_summary = reviews_clean.groupby(['App','Sentiment']).size().unstack(fill_value=0)"
   ]
  },
  {
   "cell_type": "code",
   "execution_count": 11,
   "id": "d3f20643-02d1-4f33-9582-a83976654c0b",
   "metadata": {},
   "outputs": [],
   "source": [
    "# Calculate total reviews and positivity %\n",
    "sentiment_summary['Total_Reviews'] = sentiment_summary.sum(axis=1)\n",
    "sentiment_summary['Positive%'] = (sentiment_summary['Positive'] / sentiment_summary['Total_Reviews']) * 100\n"
   ]
  },
  {
   "cell_type": "code",
   "execution_count": 12,
   "id": "3c74e3e3-279e-4350-8f5f-5421140d869a",
   "metadata": {},
   "outputs": [],
   "source": [
    "# Reset index for clean table\n",
    "sentiment_summary = sentiment_summary.reset_index()"
   ]
  },
  {
   "cell_type": "code",
   "execution_count": 13,
   "id": "6560dfda-6894-4d7e-bb48-6f71cba54de6",
   "metadata": {},
   "outputs": [
    {
     "name": "stdout",
     "output_type": "stream",
     "text": [
      "Sentiment                                               App  Negative  \\\n",
      "0                                     10 Best Foods for You        10   \n",
      "1                          104 找工作 - 找工作 找打工 找兼職 履歷健檢 履歷診療室         1   \n",
      "2                                                      11st         7   \n",
      "3                                1800 Contacts - Lens Store         6   \n",
      "4                           1LINE – One Line with One Touch         8   \n",
      "5          2018Emoji Keyboard 😂 Emoticons Lite -sticker&gif         1   \n",
      "6                              21-Day Meditation Experience        10   \n",
      "7                       2Date Dating App, Love and matching         7   \n",
      "8                               2GIS: directory & navigator         6   \n",
      "9                                                 2RedBeans         2   \n",
      "\n",
      "Sentiment  Neutral  Positive  Total_Reviews  Positive%  \n",
      "0               22       162            194  83.505155  \n",
      "1                8        31             40  77.500000  \n",
      "2                9        23             39  58.974359  \n",
      "3               10        64             80  80.000000  \n",
      "4                3        27             38  71.052632  \n",
      "5                6        25             32  78.125000  \n",
      "6                2        68             80  85.000000  \n",
      "7                5        26             38  68.421053  \n",
      "8               11        23             40  57.500000  \n",
      "9                6        31             39  79.487179  \n"
     ]
    }
   ],
   "source": [
    "print(sentiment_summary.head(10))"
   ]
  },
  {
   "cell_type": "code",
   "execution_count": 14,
   "id": "436a17f0-4ab2-43ac-9b96-b6fdefa2ab4e",
   "metadata": {},
   "outputs": [],
   "source": [
    "# Export sentiment summary to CSV\n",
    "sentiment_summary.to_csv(\"sentiment_summary.csv\", index=False)"
   ]
  },
  {
   "cell_type": "code",
   "execution_count": 15,
   "id": "cbf76ed5-9ea0-427e-b54f-64f7c5ca4940",
   "metadata": {},
   "outputs": [],
   "source": [
    "apps = pd.read_csv(\"googleplaystore.csv\")"
   ]
  },
  {
   "cell_type": "code",
   "execution_count": 16,
   "id": "e7ca34bd-f79b-4616-b6c3-ca9d81a01a46",
   "metadata": {},
   "outputs": [
    {
     "name": "stdout",
     "output_type": "stream",
     "text": [
      "(10841, 13)\n",
      "Index(['App', 'Category', 'Rating', 'Reviews', 'Size', 'Installs', 'Type',\n",
      "       'Price', 'Content Rating', 'Genres', 'Last Updated', 'Current Ver',\n",
      "       'Android Ver'],\n",
      "      dtype='object')\n",
      "                                                 App        Category  Rating  \\\n",
      "0     Photo Editor & Candy Camera & Grid & ScrapBook  ART_AND_DESIGN     4.1   \n",
      "1                                Coloring book moana  ART_AND_DESIGN     3.9   \n",
      "2  U Launcher Lite – FREE Live Cool Themes, Hide ...  ART_AND_DESIGN     4.7   \n",
      "3                              Sketch - Draw & Paint  ART_AND_DESIGN     4.5   \n",
      "4              Pixel Draw - Number Art Coloring Book  ART_AND_DESIGN     4.3   \n",
      "\n",
      "  Reviews  Size     Installs  Type Price Content Rating  \\\n",
      "0     159   19M      10,000+  Free     0       Everyone   \n",
      "1     967   14M     500,000+  Free     0       Everyone   \n",
      "2   87510  8.7M   5,000,000+  Free     0       Everyone   \n",
      "3  215644   25M  50,000,000+  Free     0           Teen   \n",
      "4     967  2.8M     100,000+  Free     0       Everyone   \n",
      "\n",
      "                      Genres      Last Updated         Current Ver  \\\n",
      "0               Art & Design   January 7, 2018               1.0.0   \n",
      "1  Art & Design;Pretend Play  January 15, 2018               2.0.0   \n",
      "2               Art & Design    August 1, 2018               1.2.4   \n",
      "3               Art & Design      June 8, 2018  Varies with device   \n",
      "4    Art & Design;Creativity     June 20, 2018                 1.1   \n",
      "\n",
      "    Android Ver  \n",
      "0  4.0.3 and up  \n",
      "1  4.0.3 and up  \n",
      "2  4.0.3 and up  \n",
      "3    4.2 and up  \n",
      "4    4.4 and up  \n"
     ]
    }
   ],
   "source": [
    "print(apps.shape)\n",
    "print(apps.columns)\n",
    "print(apps.head())"
   ]
  },
  {
   "cell_type": "code",
   "execution_count": 17,
   "id": "44f30a3a-7c70-4b70-b71c-7fa6543a97ea",
   "metadata": {},
   "outputs": [],
   "source": [
    "# Drop duplicates\n",
    "apps_clean = apps.drop_duplicates().copy()"
   ]
  },
  {
   "cell_type": "code",
   "execution_count": 18,
   "id": "099c13af-3618-431f-a405-bc2c33870fbc",
   "metadata": {},
   "outputs": [],
   "source": [
    "# Remove rows with missing App name\n",
    "apps_clean = apps_clean.dropna(subset=['App'])\n"
   ]
  },
  {
   "cell_type": "code",
   "execution_count": 19,
   "id": "d7f71e63-13a5-466e-85cf-c46c9b2dd796",
   "metadata": {},
   "outputs": [],
   "source": [
    "# Reset index\n",
    "apps_clean.reset_index(drop=True, inplace=True)"
   ]
  },
  {
   "cell_type": "code",
   "execution_count": 20,
   "id": "6cf73875-8683-44ac-9c2f-c41c424c63a0",
   "metadata": {},
   "outputs": [
    {
     "name": "stdout",
     "output_type": "stream",
     "text": [
      "After cleaning: (10358, 13)\n"
     ]
    }
   ],
   "source": [
    "print(\"After cleaning:\", apps_clean.shape)"
   ]
  },
  {
   "cell_type": "code",
   "execution_count": 22,
   "id": "365bede2-20ba-47b7-beb7-37a81d55175e",
   "metadata": {},
   "outputs": [
    {
     "name": "stdout",
     "output_type": "stream",
     "text": [
      "['10,000+' '500,000+' '5,000,000+' '50,000,000+' '100,000+' '50,000+'\n",
      " '1,000,000+' '10,000,000+' '5,000+' '100,000,000+' '1,000,000,000+'\n",
      " '1,000+' '500,000,000+' '50+' '100+' '500+' '10+' '1+' '5+' '0+']\n"
     ]
    }
   ],
   "source": [
    "print(apps_clean['Installs'].unique()[:20])  # show first 20 unique values"
   ]
  },
  {
   "cell_type": "code",
   "execution_count": 23,
   "id": "44bcdc2d-8d63-4631-ae4b-b7b1a233f7a4",
   "metadata": {},
   "outputs": [],
   "source": [
    "# Remove rows with bad values (like 'Free') in 'Installs'\n",
    "apps_clean = apps_clean[apps_clean['Installs'].str.contains(r'^\\d+[+,]*$', na=False)]"
   ]
  },
  {
   "cell_type": "code",
   "execution_count": 24,
   "id": "6f8a9817-29ed-4475-8dd8-786e23ec1ac9",
   "metadata": {},
   "outputs": [],
   "source": [
    "# Remove commas and plus signs\n",
    "apps_clean['Installs'] = apps_clean['Installs'].str.replace('[+,]', '', regex=True)"
   ]
  },
  {
   "cell_type": "code",
   "execution_count": 25,
   "id": "b0dcd9e6-4e89-4b08-bec9-3666c1608c52",
   "metadata": {},
   "outputs": [],
   "source": [
    "# Convert to int\n",
    "apps_clean['Installs'] = apps_clean['Installs'].astype(int)"
   ]
  },
  {
   "cell_type": "code",
   "execution_count": 26,
   "id": "5e5e4eda-cace-4ef2-b696-0001bc0f38ef",
   "metadata": {},
   "outputs": [],
   "source": [
    "apps_clean['Price'] = apps_clean['Price'].str.replace('$', '', regex=False) "
   ]
  },
  {
   "cell_type": "code",
   "execution_count": 27,
   "id": "845cc01f-a4f8-4399-93ec-d245130d617d",
   "metadata": {},
   "outputs": [],
   "source": [
    "# Clean Size (convert M to float, K to float, handle 'Varies with device')\n",
    "def clean_size(size):\n",
    "    if 'M' in size:\n",
    "        return float(size.replace('M',''))\n",
    "    elif 'k' in size:\n",
    "        return float(size.replace('k','')) / 1000\n",
    "    elif size == 'Varies with device':\n",
    "        return None\n",
    "    else:\n",
    "        return None\n",
    "\n",
    "apps_clean['Size'] = apps_clean['Size'].apply(clean_size)"
   ]
  },
  {
   "cell_type": "code",
   "execution_count": 28,
   "id": "3811d45b-3872-4c2d-84cd-e73472f28d52",
   "metadata": {},
   "outputs": [],
   "source": [
    "# Convert Rating to numeric\n",
    "apps_clean['Rating'] = pd.to_numeric(apps_clean['Rating'], errors='coerce')"
   ]
  },
  {
   "cell_type": "code",
   "execution_count": 29,
   "id": "62c55534-d2c4-44f3-85dc-e913ea07a9e4",
   "metadata": {},
   "outputs": [
    {
     "name": "stdout",
     "output_type": "stream",
     "text": [
      "                                                   App  Installs Price  \\\n",
      "431                                  Truth or Dare Pro        50  1.49   \n",
      "432    Private Dating, Hide App- Blue for PrivacyHider       100  2.99   \n",
      "433                               Ad Blocker for SayHi       100  3.99   \n",
      "434  AMBW Dating App: Asian Men Black Women Interra...       100  7.99   \n",
      "539             Cardi B Live Stream Video Chat - Prank       500     0   \n",
      "542                     Chat Kids - Chat Room For Kids       100     0   \n",
      "545                                        MouseMingle       100     0   \n",
      "549                                       Awake Dating       100     0   \n",
      "550                  Live Chat - Free Video Chat Rooms       500     0   \n",
      "551           Meet With Strangers: Video Chat & Dating       500     0   \n",
      "\n",
      "       Size  Rating  \n",
      "431  20.000     NaN  \n",
      "432   0.018     NaN  \n",
      "433   1.200     NaN  \n",
      "434  17.000     3.5  \n",
      "539   3.400     4.4  \n",
      "542   4.900     4.7  \n",
      "545   3.900     2.7  \n",
      "549  70.000     5.0  \n",
      "550   4.900     4.8  \n",
      "551   3.700     NaN  \n"
     ]
    }
   ],
   "source": [
    "print(apps_clean[['App','Installs','Price','Size','Rating']].head(10))"
   ]
  },
  {
   "cell_type": "code",
   "execution_count": 30,
   "id": "eec4b183-11b0-40f5-bc56-a19564773460",
   "metadata": {},
   "outputs": [],
   "source": [
    "# Fill missing Rating with median\n",
    "apps_clean['Rating'] = apps_clean['Rating'].fillna(apps_clean['Rating'].median())"
   ]
  },
  {
   "cell_type": "code",
   "execution_count": 31,
   "id": "9928693d-d6ab-46f1-b6ab-13210cd70bae",
   "metadata": {},
   "outputs": [],
   "source": [
    "# Fill missing Size with median (ignoring None)\n",
    "apps_clean['Size'] = apps_clean['Size'].fillna(apps_clean['Size'].median())"
   ]
  },
  {
   "cell_type": "code",
   "execution_count": 32,
   "id": "2221a442-e7a8-4513-85af-834cca7511b5",
   "metadata": {},
   "outputs": [],
   "source": [
    "# Fill missing Reviews with 0 (just in case)\n",
    "apps_clean['Reviews'] = pd.to_numeric(apps_clean['Reviews'], errors='coerce')\n",
    "apps_clean['Reviews'] = apps_clean['Reviews'].fillna(0)"
   ]
  },
  {
   "cell_type": "code",
   "execution_count": 33,
   "id": "8af83f5b-1091-416b-a234-b679091dc35b",
   "metadata": {},
   "outputs": [
    {
     "name": "stdout",
     "output_type": "stream",
     "text": [
      "Missing values after filling:\n",
      "App               0\n",
      "Category          0\n",
      "Rating            0\n",
      "Reviews           0\n",
      "Size              0\n",
      "Installs          0\n",
      "Type              1\n",
      "Price             0\n",
      "Content Rating    0\n",
      "Genres            0\n",
      "Last Updated      0\n",
      "Current Ver       2\n",
      "Android Ver       0\n",
      "dtype: int64\n"
     ]
    }
   ],
   "source": [
    "print(\"Missing values after filling:\")\n",
    "print(apps_clean.isna().sum())"
   ]
  },
  {
   "cell_type": "code",
   "execution_count": 57,
   "id": "46a21179-9b8c-4a77-858c-535adca89a55",
   "metadata": {},
   "outputs": [
    {
     "name": "stdout",
     "output_type": "stream",
     "text": [
      "Saved apps_cleaned.csv with shape: (1791, 13)\n"
     ]
    }
   ],
   "source": [
    "apps_clean.to_csv(\"apps_cleaned.csv\", index=False)\n",
    "\n",
    "print(\"Saved apps_cleaned.csv with shape:\", apps_clean.shape)"
   ]
  },
  {
   "cell_type": "code",
   "execution_count": 35,
   "id": "9d31f1e2-f0d8-48d8-b130-a7e62fdffd35",
   "metadata": {},
   "outputs": [
    {
     "name": "stdout",
     "output_type": "stream",
     "text": [
      "Merged dataset shape: (0, 18)\n",
      "Empty DataFrame\n",
      "Columns: [App, Negative, Neutral, Positive, Total_Reviews, Positive%, Category, Rating, Reviews, Size, Installs, Type, Price, Content Rating, Genres, Last Updated, Current Ver, Android Ver]\n",
      "Index: []\n"
     ]
    }
   ],
   "source": [
    "print(\"Merged dataset shape:\", merged_data.shape)\n",
    "print(merged_data.head(10))"
   ]
  },
  {
   "cell_type": "code",
   "execution_count": 36,
   "id": "92571fdf-526a-4130-8317-59bf1f418fb4",
   "metadata": {},
   "outputs": [],
   "source": [
    "# Standardize App names in both datasets\n",
    "sentiment_summary['App'] = sentiment_summary['App'].str.strip().str.lower()\n",
    "apps_clean['App'] = apps_clean['App'].str.strip().str.lower()"
   ]
  },
  {
   "cell_type": "code",
   "execution_count": 37,
   "id": "b0eb54fa-6d53-4d49-9a4d-e617c1fab275",
   "metadata": {},
   "outputs": [],
   "source": [
    "# Merge again\n",
    "merged_data = pd.merge(sentiment_summary, apps_clean, on=\"App\", how=\"inner\")"
   ]
  },
  {
   "cell_type": "code",
   "execution_count": 38,
   "id": "2087ed22-3765-40d6-9370-088a91660feb",
   "metadata": {},
   "outputs": [
    {
     "name": "stdout",
     "output_type": "stream",
     "text": [
      "Merged dataset shape: (0, 18)\n",
      "Empty DataFrame\n",
      "Columns: [App, Negative, Neutral, Positive, Total_Reviews, Positive%, Category, Rating, Reviews, Size, Installs, Type, Price, Content Rating, Genres, Last Updated, Current Ver, Android Ver]\n",
      "Index: []\n"
     ]
    }
   ],
   "source": [
    "print(\"Merged dataset shape:\", merged_data.shape)\n",
    "print(merged_data.head(10))"
   ]
  },
  {
   "cell_type": "code",
   "execution_count": 39,
   "id": "de11a15b-57b8-486d-966b-57ed338f5c28",
   "metadata": {},
   "outputs": [
    {
     "name": "stdout",
     "output_type": "stream",
     "text": [
      "Unique Apps in sentiment_summary: 865\n"
     ]
    }
   ],
   "source": [
    "print(\"Unique Apps in sentiment_summary:\", sentiment_summary['App'].nunique())"
   ]
  },
  {
   "cell_type": "code",
   "execution_count": 40,
   "id": "2532ba5b-60a3-4da9-9ba1-2a228d9f6e1a",
   "metadata": {},
   "outputs": [
    {
     "name": "stdout",
     "output_type": "stream",
     "text": [
      "Unique Apps in apps_clean: 1788\n"
     ]
    }
   ],
   "source": [
    "print(\"Unique Apps in apps_clean:\", apps_clean['App'].nunique())"
   ]
  },
  {
   "cell_type": "code",
   "execution_count": 41,
   "id": "d8a2a712-331a-4ebc-a204-d0f3396be042",
   "metadata": {},
   "outputs": [],
   "source": [
    "# Find overlapping apps\n",
    "common_apps = set(sentiment_summary['App']).intersection(set(apps_clean['App']))"
   ]
  },
  {
   "cell_type": "code",
   "execution_count": 42,
   "id": "6fabb271-164b-497b-8f0c-cd369a1e9688",
   "metadata": {},
   "outputs": [
    {
     "name": "stdout",
     "output_type": "stream",
     "text": [
      "Number of common apps: 0\n",
      "Sample common apps: []\n"
     ]
    }
   ],
   "source": [
    "print(\"Number of common apps:\", len(common_apps))\n",
    "print(\"Sample common apps:\", list(common_apps)[:10])  # first 20"
   ]
  },
  {
   "cell_type": "code",
   "execution_count": 43,
   "id": "f16e662b-6244-4d52-a7d4-0058f19701e9",
   "metadata": {},
   "outputs": [
    {
     "name": "stdout",
     "output_type": "stream",
     "text": [
      "Sample from sentiment_summary:\n",
      "['10 best foods for you' '104 找工作 - 找工作 找打工 找兼職 履歷健檢 履歷診療室' '11st'\n",
      " '1800 contacts - lens store' '1line – one line with one touch'\n",
      " '2018emoji keyboard 😂 emoticons lite -sticker&gif'\n",
      " '21-day meditation experience' '2date dating app, love and matching'\n",
      " '2gis: directory & navigator' '2redbeans' '2ndline - second phone number'\n",
      " '30 day fitness challenge - workout at home' '365scores - live scores'\n",
      " '3d live neon weed launcher' '4 in a row'\n",
      " '4k wallpapers and ultra hd backgrounds'\n",
      " '591房屋交易-租屋、中古屋、新建案、實價登錄、別墅透天、公寓套房、捷運、買房賣房行情、房價房貸查詢' '591房屋交易-香港'\n",
      " '7 cups: anxiety & stress chat' '7 day food journal challenge']\n"
     ]
    }
   ],
   "source": [
    "print(\"Sample from sentiment_summary:\")\n",
    "print(sentiment_summary['App'].unique()[:20])\n"
   ]
  },
  {
   "cell_type": "code",
   "execution_count": 44,
   "id": "f2d99139-2026-44b5-b779-167d244c1421",
   "metadata": {},
   "outputs": [
    {
     "name": "stdout",
     "output_type": "stream",
     "text": [
      "\n",
      "Sample from apps_clean:\n",
      "['truth or dare pro' 'private dating, hide app- blue for privacyhider'\n",
      " 'ad blocker for sayhi'\n",
      " 'ambw dating app: asian men black women interracial'\n",
      " 'cardi b live stream video chat - prank' 'chat kids - chat room for kids'\n",
      " 'mousemingle' 'awake dating' 'live chat - free video chat rooms'\n",
      " 'meet with strangers: video chat & dating'\n",
      " 'random chat app with strangers'\n",
      " 'ost. zombies cast - new music and lyrics' 'dating white girls'\n",
      " 'geeks dating' 'live chat - free video chat' 'house party - live chat'\n",
      " 'fishing brain & boating maps marine' 'cam5678 video chat'\n",
      " 'video chat live advices' 'pet lovers dating']\n"
     ]
    }
   ],
   "source": [
    "print(\"\\nSample from apps_clean:\")\n",
    "print(apps_clean['App'].unique()[:20])"
   ]
  },
  {
   "cell_type": "code",
   "execution_count": 45,
   "id": "3fd4698b-6bbe-4593-8836-7beb8897653e",
   "metadata": {},
   "outputs": [
    {
     "name": "stdout",
     "output_type": "stream",
     "text": [
      "Defaulting to user installation because normal site-packages is not writeable\n",
      "Collecting rapidfuzz\n",
      "  Downloading rapidfuzz-3.14.0-cp312-cp312-win_amd64.whl.metadata (12 kB)\n",
      "Downloading rapidfuzz-3.14.0-cp312-cp312-win_amd64.whl (1.7 MB)\n",
      "   ---------------------------------------- 0.0/1.7 MB ? eta -:--:--\n",
      "   ------ --------------------------------- 0.3/1.7 MB ? eta -:--:--\n",
      "   ------------------ --------------------- 0.8/1.7 MB 2.4 MB/s eta 0:00:01\n",
      "   ------------------------------------- -- 1.6/1.7 MB 2.9 MB/s eta 0:00:01\n",
      "   ---------------------------------------- 1.7/1.7 MB 2.8 MB/s  0:00:00\n",
      "Installing collected packages: rapidfuzz\n",
      "Successfully installed rapidfuzz-3.14.0\n"
     ]
    }
   ],
   "source": [
    "!pip install rapidfuzz"
   ]
  },
  {
   "cell_type": "code",
   "execution_count": 46,
   "id": "0e7107bb-7d4a-480a-9e6c-29a393aa5a7e",
   "metadata": {},
   "outputs": [
    {
     "name": "stdout",
     "output_type": "stream",
     "text": [
      "Sample fuzzy matches:\n",
      "a+ mobile  --->  cb mobile\n",
      "abc preschool free  --->  bg future school\n"
     ]
    }
   ],
   "source": [
    "from rapidfuzz import process, fuzz\n",
    "\n",
    "# Create mapping for top matches\n",
    "mapping = {}\n",
    "for app in sentiment_summary['App'].unique()[:50]:  # limit first 50 for testing\n",
    "    match = process.extractOne(app, apps_clean['App'].unique(), scorer=fuzz.token_sort_ratio)\n",
    "    if match and match[1] > 70:  # threshold for similarity\n",
    "        mapping[app] = match[0]\n",
    "\n",
    "print(\"Sample fuzzy matches:\")\n",
    "for k, v in list(mapping.items())[:20]:\n",
    "    print(f\"{k}  --->  {v}\")"
   ]
  },
  {
   "cell_type": "code",
   "execution_count": 47,
   "id": "b535babd-9078-4673-9f75-33deaf4ddf96",
   "metadata": {},
   "outputs": [
    {
     "name": "stdout",
     "output_type": "stream",
     "text": [
      "Sample fuzzy matches:\n",
      "all-in-one mahjong 3 free  --->  all-in-one mahjong 3\n",
      "apk installer  --->  cp installer app\n",
      "barcode scanner  --->  bi barcode scanner\n",
      "best wallpapers qhd  --->  eh bee wallpapers hd\n",
      "cbs news  --->  cb news\n",
      "du recorder – screen recorder, video editor, live  --->  ay recorder - screen recorder, live, video editor\n",
      "file explorer  --->  bl file explorer\n",
      "file manager  --->  r file manager\n",
      "go notifier  --->  cl notifier\n",
      "hd camera  --->  dz camera\n",
      "Merged dataset shape: (10, 20)\n",
      "                                               App_x  Negative  Neutral  \\\n",
      "0                          all-in-one mahjong 3 free         0        0   \n",
      "1                                      apk installer         6        3   \n",
      "2                                    barcode scanner         0        6   \n",
      "3                                best wallpapers qhd         4        1   \n",
      "4                                           cbs news         0        1   \n",
      "5  du recorder – screen recorder, video editor, live        11        5   \n",
      "6                                      file explorer         3        6   \n",
      "7                                       file manager         3        5   \n",
      "8                                        go notifier         8        5   \n",
      "9                                          hd camera         0        1   \n",
      "\n",
      "   Positive  Total_Reviews   Positive%  \\\n",
      "0         1              1  100.000000   \n",
      "1        18             27   66.666667   \n",
      "2        31             37   83.783784   \n",
      "3        30             35   85.714286   \n",
      "4         0              1    0.000000   \n",
      "5        42             58   72.413793   \n",
      "6        14             23   60.869565   \n",
      "7         3             11   27.272727   \n",
      "8        21             34   61.764706   \n",
      "9         0              1    0.000000   \n",
      "\n",
      "                                         App_Matched  \\\n",
      "0                               all-in-one mahjong 3   \n",
      "1                                   cp installer app   \n",
      "2                                 bi barcode scanner   \n",
      "3                               eh bee wallpapers hd   \n",
      "4                                            cb news   \n",
      "5  ay recorder - screen recorder, live, video editor   \n",
      "6                                   bl file explorer   \n",
      "7                                     r file manager   \n",
      "8                                        cl notifier   \n",
      "9                                          dz camera   \n",
      "\n",
      "                                               App_y         Category  Rating  \\\n",
      "0                               all-in-one mahjong 3           FAMILY     4.4   \n",
      "1                                   cp installer app         BUSINESS     5.0   \n",
      "2                                 bi barcode scanner     PRODUCTIVITY     4.6   \n",
      "3                               eh bee wallpapers hd  PERSONALIZATION     5.0   \n",
      "4                                            cb news           FAMILY     5.0   \n",
      "5  ay recorder - screen recorder, live, video editor            TOOLS     4.3   \n",
      "6                                   bl file explorer            TOOLS     4.6   \n",
      "7                                     r file manager            TOOLS     4.8   \n",
      "8                                        cl notifier            TOOLS     5.0   \n",
      "9                                          dz camera            TOOLS     4.6   \n",
      "\n",
      "   Reviews    Size  Installs  Type Price Content Rating             Genres  \\\n",
      "0       38  16.000       100  Paid  0.99       Everyone  Board;Brain Games   \n",
      "1        4  24.000       100  Free     0       Everyone           Business   \n",
      "2        0   0.473        10  Paid  0.99       Everyone       Productivity   \n",
      "3        4   3.900       100  Free     0       Everyone    Personalization   \n",
      "4        7  20.000        50  Free     0       Everyone          Education   \n",
      "5       12   3.800       500  Free     0       Everyone              Tools   \n",
      "6        1   0.421        50  Paid  1.99       Everyone              Tools   \n",
      "7       17   6.700        50  Free     0       Everyone              Tools   \n",
      "8       36   3.200       100  Free     0           Teen              Tools   \n",
      "9        1  33.000        10  Free     0       Everyone              Tools   \n",
      "\n",
      "         Last Updated Current Ver Android Ver  \n",
      "0       June 14, 2018    20180609  4.0 and up  \n",
      "1       July 24, 2018       5.1.1  4.1 and up  \n",
      "2       June 13, 2014         2.2  2.2 and up  \n",
      "3      April 24, 2018         1.0  4.1 and up  \n",
      "4  September 10, 2016       1.2.0  4.1 and up  \n",
      "5        May 15, 2017         2.2  5.0 and up  \n",
      "6       July 18, 2014  1.5.140718  1.5 and up  \n",
      "7         May 5, 2018          v2  4.4 and up  \n",
      "8      August 2, 2017         1.0  4.0 and up  \n",
      "9   November 19, 2017         1.0  4.3 and up  \n"
     ]
    }
   ],
   "source": [
    "from rapidfuzz import process, fuzz\n",
    "\n",
    "# Build fuzzy mapping for all apps\n",
    "mapping = {}\n",
    "for app in sentiment_summary['App'].unique():\n",
    "    match = process.extractOne(app, apps_clean['App'].unique(), scorer=fuzz.token_sort_ratio)\n",
    "    if match and match[1] > 80:  # you can adjust threshold (70–85)\n",
    "        mapping[app] = match[0]\n",
    "\n",
    "# Show sample matches\n",
    "print(\"Sample fuzzy matches:\")\n",
    "for k, v in list(mapping.items())[:20]:\n",
    "    print(f\"{k}  --->  {v}\")\n",
    "\n",
    "# Apply mapping\n",
    "sentiment_summary['App_Matched'] = sentiment_summary['App'].map(mapping)\n",
    "\n",
    "# Drop rows with no match\n",
    "sentiment_summary = sentiment_summary.dropna(subset=['App_Matched'])\n",
    "\n",
    "# Merge with apps_clean\n",
    "merged_data = pd.merge(sentiment_summary, apps_clean, left_on=\"App_Matched\", right_on=\"App\", how=\"inner\")\n",
    "\n",
    "print(\"Merged dataset shape:\", merged_data.shape)\n",
    "print(merged_data.head(10))\n"
   ]
  },
  {
   "cell_type": "code",
   "execution_count": 48,
   "id": "bc268177-a3bc-451d-81e0-d702edad811e",
   "metadata": {},
   "outputs": [
    {
     "name": "stdout",
     "output_type": "stream",
     "text": [
      "Merged dataset shape: (10, 20)\n",
      "                                               App_x  Negative  Neutral  \\\n",
      "0                          all-in-one mahjong 3 free         0        0   \n",
      "1                                      apk installer         6        3   \n",
      "2                                    barcode scanner         0        6   \n",
      "3                                best wallpapers qhd         4        1   \n",
      "4                                           cbs news         0        1   \n",
      "5  du recorder – screen recorder, video editor, live        11        5   \n",
      "6                                      file explorer         3        6   \n",
      "7                                       file manager         3        5   \n",
      "8                                        go notifier         8        5   \n",
      "9                                          hd camera         0        1   \n",
      "\n",
      "   Positive  Total_Reviews   Positive%  \\\n",
      "0         1              1  100.000000   \n",
      "1        18             27   66.666667   \n",
      "2        31             37   83.783784   \n",
      "3        30             35   85.714286   \n",
      "4         0              1    0.000000   \n",
      "5        42             58   72.413793   \n",
      "6        14             23   60.869565   \n",
      "7         3             11   27.272727   \n",
      "8        21             34   61.764706   \n",
      "9         0              1    0.000000   \n",
      "\n",
      "                                         App_Matched  \\\n",
      "0                               all-in-one mahjong 3   \n",
      "1                                   cp installer app   \n",
      "2                                 bi barcode scanner   \n",
      "3                               eh bee wallpapers hd   \n",
      "4                                            cb news   \n",
      "5  ay recorder - screen recorder, live, video editor   \n",
      "6                                   bl file explorer   \n",
      "7                                     r file manager   \n",
      "8                                        cl notifier   \n",
      "9                                          dz camera   \n",
      "\n",
      "                                               App_y         Category  Rating  \\\n",
      "0                               all-in-one mahjong 3           FAMILY     4.4   \n",
      "1                                   cp installer app         BUSINESS     5.0   \n",
      "2                                 bi barcode scanner     PRODUCTIVITY     4.6   \n",
      "3                               eh bee wallpapers hd  PERSONALIZATION     5.0   \n",
      "4                                            cb news           FAMILY     5.0   \n",
      "5  ay recorder - screen recorder, live, video editor            TOOLS     4.3   \n",
      "6                                   bl file explorer            TOOLS     4.6   \n",
      "7                                     r file manager            TOOLS     4.8   \n",
      "8                                        cl notifier            TOOLS     5.0   \n",
      "9                                          dz camera            TOOLS     4.6   \n",
      "\n",
      "   Reviews    Size  Installs  Type Price Content Rating             Genres  \\\n",
      "0       38  16.000       100  Paid  0.99       Everyone  Board;Brain Games   \n",
      "1        4  24.000       100  Free     0       Everyone           Business   \n",
      "2        0   0.473        10  Paid  0.99       Everyone       Productivity   \n",
      "3        4   3.900       100  Free     0       Everyone    Personalization   \n",
      "4        7  20.000        50  Free     0       Everyone          Education   \n",
      "5       12   3.800       500  Free     0       Everyone              Tools   \n",
      "6        1   0.421        50  Paid  1.99       Everyone              Tools   \n",
      "7       17   6.700        50  Free     0       Everyone              Tools   \n",
      "8       36   3.200       100  Free     0           Teen              Tools   \n",
      "9        1  33.000        10  Free     0       Everyone              Tools   \n",
      "\n",
      "         Last Updated Current Ver Android Ver  \n",
      "0       June 14, 2018    20180609  4.0 and up  \n",
      "1       July 24, 2018       5.1.1  4.1 and up  \n",
      "2       June 13, 2014         2.2  2.2 and up  \n",
      "3      April 24, 2018         1.0  4.1 and up  \n",
      "4  September 10, 2016       1.2.0  4.1 and up  \n",
      "5        May 15, 2017         2.2  5.0 and up  \n",
      "6       July 18, 2014  1.5.140718  1.5 and up  \n",
      "7         May 5, 2018          v2  4.4 and up  \n",
      "8      August 2, 2017         1.0  4.0 and up  \n",
      "9   November 19, 2017         1.0  4.3 and up  \n"
     ]
    }
   ],
   "source": [
    "print(\"Merged dataset shape:\", merged_data.shape)\n",
    "print(merged_data.head(10))"
   ]
  },
  {
   "cell_type": "code",
   "execution_count": 49,
   "id": "51545e43-551d-4bb2-ac6c-fc3fb81cab9f",
   "metadata": {},
   "outputs": [],
   "source": [
    "merged_data = merged_data.drop(columns=['App_y'])\n",
    "merged_data = merged_data.rename(columns={'App_x': 'App'})\n"
   ]
  },
  {
   "cell_type": "code",
   "execution_count": 51,
   "id": "d15e6b63-4d73-4d0c-a471-a5ac53f2874e",
   "metadata": {},
   "outputs": [
    {
     "name": "stdout",
     "output_type": "stream",
     "text": [
      "(10, 19)\n",
      "Index(['App', 'Negative', 'Neutral', 'Positive', 'Total_Reviews', 'Positive%',\n",
      "       'App_Matched', 'Category', 'Rating', 'Reviews', 'Size', 'Installs',\n",
      "       'Type', 'Price', 'Content Rating', 'Genres', 'Last Updated',\n",
      "       'Current Ver', 'Android Ver'],\n",
      "      dtype='object')\n"
     ]
    },
    {
     "data": {
      "text/html": [
       "<div>\n",
       "<style scoped>\n",
       "    .dataframe tbody tr th:only-of-type {\n",
       "        vertical-align: middle;\n",
       "    }\n",
       "\n",
       "    .dataframe tbody tr th {\n",
       "        vertical-align: top;\n",
       "    }\n",
       "\n",
       "    .dataframe thead th {\n",
       "        text-align: right;\n",
       "    }\n",
       "</style>\n",
       "<table border=\"1\" class=\"dataframe\">\n",
       "  <thead>\n",
       "    <tr style=\"text-align: right;\">\n",
       "      <th></th>\n",
       "      <th>App</th>\n",
       "      <th>Negative</th>\n",
       "      <th>Neutral</th>\n",
       "      <th>Positive</th>\n",
       "      <th>Total_Reviews</th>\n",
       "      <th>Positive%</th>\n",
       "      <th>App_Matched</th>\n",
       "      <th>Category</th>\n",
       "      <th>Rating</th>\n",
       "      <th>Reviews</th>\n",
       "      <th>Size</th>\n",
       "      <th>Installs</th>\n",
       "      <th>Type</th>\n",
       "      <th>Price</th>\n",
       "      <th>Content Rating</th>\n",
       "      <th>Genres</th>\n",
       "      <th>Last Updated</th>\n",
       "      <th>Current Ver</th>\n",
       "      <th>Android Ver</th>\n",
       "    </tr>\n",
       "  </thead>\n",
       "  <tbody>\n",
       "    <tr>\n",
       "      <th>0</th>\n",
       "      <td>all-in-one mahjong 3 free</td>\n",
       "      <td>0</td>\n",
       "      <td>0</td>\n",
       "      <td>1</td>\n",
       "      <td>1</td>\n",
       "      <td>100.000000</td>\n",
       "      <td>all-in-one mahjong 3</td>\n",
       "      <td>FAMILY</td>\n",
       "      <td>4.4</td>\n",
       "      <td>38</td>\n",
       "      <td>16.000</td>\n",
       "      <td>100</td>\n",
       "      <td>Paid</td>\n",
       "      <td>0.99</td>\n",
       "      <td>Everyone</td>\n",
       "      <td>Board;Brain Games</td>\n",
       "      <td>June 14, 2018</td>\n",
       "      <td>20180609</td>\n",
       "      <td>4.0 and up</td>\n",
       "    </tr>\n",
       "    <tr>\n",
       "      <th>1</th>\n",
       "      <td>apk installer</td>\n",
       "      <td>6</td>\n",
       "      <td>3</td>\n",
       "      <td>18</td>\n",
       "      <td>27</td>\n",
       "      <td>66.666667</td>\n",
       "      <td>cp installer app</td>\n",
       "      <td>BUSINESS</td>\n",
       "      <td>5.0</td>\n",
       "      <td>4</td>\n",
       "      <td>24.000</td>\n",
       "      <td>100</td>\n",
       "      <td>Free</td>\n",
       "      <td>0</td>\n",
       "      <td>Everyone</td>\n",
       "      <td>Business</td>\n",
       "      <td>July 24, 2018</td>\n",
       "      <td>5.1.1</td>\n",
       "      <td>4.1 and up</td>\n",
       "    </tr>\n",
       "    <tr>\n",
       "      <th>2</th>\n",
       "      <td>barcode scanner</td>\n",
       "      <td>0</td>\n",
       "      <td>6</td>\n",
       "      <td>31</td>\n",
       "      <td>37</td>\n",
       "      <td>83.783784</td>\n",
       "      <td>bi barcode scanner</td>\n",
       "      <td>PRODUCTIVITY</td>\n",
       "      <td>4.6</td>\n",
       "      <td>0</td>\n",
       "      <td>0.473</td>\n",
       "      <td>10</td>\n",
       "      <td>Paid</td>\n",
       "      <td>0.99</td>\n",
       "      <td>Everyone</td>\n",
       "      <td>Productivity</td>\n",
       "      <td>June 13, 2014</td>\n",
       "      <td>2.2</td>\n",
       "      <td>2.2 and up</td>\n",
       "    </tr>\n",
       "    <tr>\n",
       "      <th>3</th>\n",
       "      <td>best wallpapers qhd</td>\n",
       "      <td>4</td>\n",
       "      <td>1</td>\n",
       "      <td>30</td>\n",
       "      <td>35</td>\n",
       "      <td>85.714286</td>\n",
       "      <td>eh bee wallpapers hd</td>\n",
       "      <td>PERSONALIZATION</td>\n",
       "      <td>5.0</td>\n",
       "      <td>4</td>\n",
       "      <td>3.900</td>\n",
       "      <td>100</td>\n",
       "      <td>Free</td>\n",
       "      <td>0</td>\n",
       "      <td>Everyone</td>\n",
       "      <td>Personalization</td>\n",
       "      <td>April 24, 2018</td>\n",
       "      <td>1.0</td>\n",
       "      <td>4.1 and up</td>\n",
       "    </tr>\n",
       "    <tr>\n",
       "      <th>4</th>\n",
       "      <td>cbs news</td>\n",
       "      <td>0</td>\n",
       "      <td>1</td>\n",
       "      <td>0</td>\n",
       "      <td>1</td>\n",
       "      <td>0.000000</td>\n",
       "      <td>cb news</td>\n",
       "      <td>FAMILY</td>\n",
       "      <td>5.0</td>\n",
       "      <td>7</td>\n",
       "      <td>20.000</td>\n",
       "      <td>50</td>\n",
       "      <td>Free</td>\n",
       "      <td>0</td>\n",
       "      <td>Everyone</td>\n",
       "      <td>Education</td>\n",
       "      <td>September 10, 2016</td>\n",
       "      <td>1.2.0</td>\n",
       "      <td>4.1 and up</td>\n",
       "    </tr>\n",
       "  </tbody>\n",
       "</table>\n",
       "</div>"
      ],
      "text/plain": [
       "                         App  Negative  Neutral  Positive  Total_Reviews  \\\n",
       "0  all-in-one mahjong 3 free         0        0         1              1   \n",
       "1              apk installer         6        3        18             27   \n",
       "2            barcode scanner         0        6        31             37   \n",
       "3        best wallpapers qhd         4        1        30             35   \n",
       "4                   cbs news         0        1         0              1   \n",
       "\n",
       "    Positive%           App_Matched         Category  Rating  Reviews    Size  \\\n",
       "0  100.000000  all-in-one mahjong 3           FAMILY     4.4       38  16.000   \n",
       "1   66.666667      cp installer app         BUSINESS     5.0        4  24.000   \n",
       "2   83.783784    bi barcode scanner     PRODUCTIVITY     4.6        0   0.473   \n",
       "3   85.714286  eh bee wallpapers hd  PERSONALIZATION     5.0        4   3.900   \n",
       "4    0.000000               cb news           FAMILY     5.0        7  20.000   \n",
       "\n",
       "   Installs  Type Price Content Rating             Genres        Last Updated  \\\n",
       "0       100  Paid  0.99       Everyone  Board;Brain Games       June 14, 2018   \n",
       "1       100  Free     0       Everyone           Business       July 24, 2018   \n",
       "2        10  Paid  0.99       Everyone       Productivity       June 13, 2014   \n",
       "3       100  Free     0       Everyone    Personalization      April 24, 2018   \n",
       "4        50  Free     0       Everyone          Education  September 10, 2016   \n",
       "\n",
       "  Current Ver Android Ver  \n",
       "0    20180609  4.0 and up  \n",
       "1       5.1.1  4.1 and up  \n",
       "2         2.2  2.2 and up  \n",
       "3         1.0  4.1 and up  \n",
       "4       1.2.0  4.1 and up  "
      ]
     },
     "execution_count": 51,
     "metadata": {},
     "output_type": "execute_result"
    }
   ],
   "source": [
    "print(merged_data.shape)\n",
    "print(merged_data.columns)\n",
    "merged_data.head(5)"
   ]
  },
  {
   "cell_type": "code",
   "execution_count": 52,
   "id": "84530583-38c8-4a20-ba18-d97d301d49df",
   "metadata": {},
   "outputs": [
    {
     "name": "stdout",
     "output_type": "stream",
     "text": [
      "        Negative    Neutral   Positive  Total_Reviews   Positive%     Rating  \\\n",
      "count  10.000000  10.000000  10.000000      10.000000   10.000000  10.000000   \n",
      "mean    3.500000   3.300000  16.000000      22.800000   55.848553   4.730000   \n",
      "std     3.836955   2.359378  15.040686      19.141578   35.163174   0.266875   \n",
      "min     0.000000   0.000000   0.000000       1.000000    0.000000   4.300000   \n",
      "25%     0.000000   1.000000   1.500000       3.500000   35.671937   4.600000   \n",
      "50%     3.000000   4.000000  16.000000      25.000000   64.215686   4.700000   \n",
      "75%     5.500000   5.000000  27.750000      34.750000   80.941286   5.000000   \n",
      "max    11.000000   6.000000  42.000000      58.000000  100.000000   5.000000   \n",
      "\n",
      "         Reviews       Size    Installs  \n",
      "count  10.000000  10.000000   10.000000  \n",
      "mean   12.000000  11.149400  107.000000  \n",
      "std    14.204851  11.368034  142.676791  \n",
      "min     0.000000   0.421000   10.000000  \n",
      "25%     1.750000   3.350000   50.000000  \n",
      "50%     5.500000   5.300000   75.000000  \n",
      "75%    15.750000  19.000000  100.000000  \n",
      "max    38.000000  33.000000  500.000000  \n",
      "Category\n",
      "TOOLS              5\n",
      "FAMILY             2\n",
      "BUSINESS           1\n",
      "PRODUCTIVITY       1\n",
      "PERSONALIZATION    1\n",
      "Name: count, dtype: int64\n"
     ]
    }
   ],
   "source": [
    "print(merged_data.describe())\n",
    "print(merged_data['Category'].value_counts().head(10))"
   ]
  },
  {
   "cell_type": "code",
   "execution_count": 54,
   "id": "deac4aa0-e0db-4035-a556-7696cc277ca0",
   "metadata": {},
   "outputs": [],
   "source": [
    "merged_data.to_csv(\"googleplay_sentiment_cleaned.csv\", index=False)"
   ]
  },
  {
   "cell_type": "code",
   "execution_count": 55,
   "id": "092eefde-347b-43a2-8664-a96475f26055",
   "metadata": {},
   "outputs": [],
   "source": [
    "match = process.extractOne(app, apps_clean['App'].unique(), scorer=fuzz.token_sort_ratio)\n",
    "if match and match[1] > 50:  # lower from 70 → 50\n",
    "    mapping[app] = match[0]\n"
   ]
  },
  {
   "cell_type": "code",
   "execution_count": 56,
   "id": "f6c1aa1b-483d-4a54-a45e-d637ac22507e",
   "metadata": {},
   "outputs": [
    {
     "name": "stdout",
     "output_type": "stream",
     "text": [
      "Total Matches: 10\n"
     ]
    }
   ],
   "source": [
    "mapping = {}\n",
    "for app in sentiment_summary['App'].unique():\n",
    "    match = process.extractOne(app, apps_clean['App'].unique(), scorer=fuzz.token_sort_ratio)\n",
    "    if match and match[1] > 50:  \n",
    "        mapping[app] = match[0]\n",
    "\n",
    "print(f\"Total Matches: {len(mapping)}\")\n"
   ]
  },
  {
   "cell_type": "code",
   "execution_count": null,
   "id": "9c49d2bf-7fde-479a-aadd-f029ae9afe7a",
   "metadata": {},
   "outputs": [],
   "source": []
  }
 ],
 "metadata": {
  "kernelspec": {
   "display_name": "Python 3 (ipykernel)",
   "language": "python",
   "name": "python3"
  },
  "language_info": {
   "codemirror_mode": {
    "name": "ipython",
    "version": 3
   },
   "file_extension": ".py",
   "mimetype": "text/x-python",
   "name": "python",
   "nbconvert_exporter": "python",
   "pygments_lexer": "ipython3",
   "version": "3.12.4"
  }
 },
 "nbformat": 4,
 "nbformat_minor": 5
}
